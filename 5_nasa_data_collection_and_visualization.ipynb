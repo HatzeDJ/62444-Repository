{
 "cells": [
  {
   "cell_type": "markdown",
   "metadata": {},
   "source": [
    "# Project 2：NASA Data Acquisation, Visualization, and Analysis"
   ]
  },
  {
   "cell_type": "code",
   "execution_count": null,
   "metadata": {},
   "outputs": [],
   "source": [
    "# The code makes sure that once there is change in the 'src/' folder, the \n",
    "# change will be automatically reloaded in the notebook.\n",
    "%reload_ext autoreload\n",
    "%autoreload 2\n",
    "%aimport src"
   ]
  },
  {
   "cell_type": "markdown",
   "metadata": {},
   "source": [
    "### Task 1: Understanding the NASA API and Data Collection\n",
    "\n",
    "- Register for a NASA API key and understand the different types of data that the API provides.\n",
    "- Run the Python script below to fetch data about **Near Earth Objects (NEOs)** from the NASA API for a years data.\n",
    "- Extract and understand the different pieces of data provided for each NEO."
   ]
  },
  {
   "cell_type": "code",
   "execution_count": null,
   "metadata": {},
   "outputs": [],
   "source": [
    "import requests\n",
    "import time\n",
    "from datetime import datetime, timedelta\n",
    "from getpass import getpass\n",
    "\n",
    "# Set your NASA API KEY, this step asks you to enter your API KEY.\n",
    "# (The input box may be float in the top on your editor.)\n",
    "api_key = getpass()"
   ]
  },
  {
   "cell_type": "code",
   "execution_count": null,
   "metadata": {},
   "outputs": [],
   "source": []
  },
  {
   "cell_type": "code",
   "execution_count": null,
   "metadata": {},
   "outputs": [],
   "source": [
    "# Set the start and end dates for the data you want to fetch\n",
    "start_date = datetime.strptime('2022-01-01', '%Y-%m-%d')\n",
    "end_date = start_date + timedelta(days=365)  # 1 year later\n",
    "\n",
    "# Initialize a list to store the data\n",
    "data = []\n",
    "\n",
    "# Fetch data from the NASA API 7 days at a time\n",
    "# The introduction of the API is on https://api.nasa.gov, under \"Browse APIs\" -> \"Asteroids NeoWs\"\n",
    "# You can look into the example query in the link below to see what the data look like:\n",
    "# https://api.nasa.gov/neo/rest/v1/feed?start_date=2015-09-07&end_date=2015-09-08&api_key=DEMO_KEY\n",
    "current_date = start_date\n",
    "while current_date < end_date:\n",
    "    next_date = min(current_date + timedelta(days=7), end_date)\n",
    "    response = requests.get(f'https://api.nasa.gov/neo/rest/v1/feed?start_date={current_date.strftime(\"%Y-%m-%d\")}&end_date={next_date.strftime(\"%Y-%m-%d\")}&api_key={api_key}')\n",
    "    data.append(response.json())\n",
    "    current_date = next_date\n",
    "    time.sleep(1)  # To avoid hitting the rate limit\n",
    "\n",
    "# Now 'data' contains the NEO data for the 1-year period\n"
   ]
  },
  {
   "cell_type": "code",
   "execution_count": null,
   "metadata": {},
   "outputs": [],
   "source": [
    "# Check the date coverage of your data.\n",
    "dates_contained_in_data = []\n",
    "for d in data:\n",
    "    dates_contained_in_data += list(d['near_earth_objects'].keys())\n",
    "\n",
    "print(sorted(dates_contained_in_data))"
   ]
  },
  {
   "cell_type": "code",
   "execution_count": null,
   "metadata": {},
   "outputs": [],
   "source": [
    "from src.utils import get_a_random_chunk_property"
   ]
  },
  {
   "cell_type": "code",
   "execution_count": null,
   "metadata": {},
   "outputs": [],
   "source": [
    "get_a_random_chunk_property(data)"
   ]
  },
  {
   "cell_type": "markdown",
   "metadata": {},
   "source": [
    "For the remaining tasks, you have to organize the data as pd.DataFrame so as to suit the specific need in each task. This part may require a considerably amount of efforts, which is normal in data science and analytics works."
   ]
  },
  {
   "cell_type": "markdown",
   "metadata": {},
   "source": [
    "### Task 2: Data Analysis\n",
    "\n",
    "- Calculate the average size of the NEOs for each day.\n",
    "- Determine the proportion of NEOs that are potentially hazardous.\n",
    "- Find the NEO with the closest approach distance for each day.\n",
    "- Use statistical methods to analyze the data. For example, calculate the mean, median, mode, and standard deviation of the NEO sizes. Determine if the size of a NEO is correlated with whether it is potentially hazardous."
   ]
  },
  {
   "cell_type": "code",
   "execution_count": 29,
   "metadata": {},
   "outputs": [
    {
     "name": "stdout",
     "output_type": "stream",
     "text": [
      "                     estimated_diameter.kilometers.estimated_diameter_min  \\\n",
      "close_approach_date                                                         \n",
      "2022-01-01                                                    0.101401      \n",
      "2022-01-02                                                    0.070013      \n",
      "2022-01-03                                                    0.017416      \n",
      "2022-01-04                                                    0.049554      \n",
      "2022-01-05                                                    0.109484      \n",
      "...                                                                ...      \n",
      "2022-12-28                                                    0.077546      \n",
      "2022-12-29                                                    0.116757      \n",
      "2022-12-30                                                    0.084969      \n",
      "2022-12-31                                                    0.032318      \n",
      "2023-01-01                                                    0.188559      \n",
      "\n",
      "                     estimated_diameter.kilometers.estimated_diameter_max  \n",
      "close_approach_date                                                        \n",
      "2022-01-01                                                    0.226738     \n",
      "2022-01-02                                                    0.156554     \n",
      "2022-01-03                                                    0.038942     \n",
      "2022-01-04                                                    0.110805     \n",
      "2022-01-05                                                    0.244814     \n",
      "...                                                                ...     \n",
      "2022-12-28                                                    0.173399     \n",
      "2022-12-29                                                    0.261076     \n",
      "2022-12-30                                                    0.189996     \n",
      "2022-12-31                                                    0.072265     \n",
      "2023-01-01                                                    0.421630     \n",
      "\n",
      "[366 rows x 2 columns]\n",
      "False    0.936234\n",
      "True     0.063766\n",
      "Name: is_potentially_hazardous_asteroid, dtype: float64\n",
      "estimated_diameter.kilometers.estimated_diameter_min    0.256786\n",
      "estimated_diameter.kilometers.estimated_diameter_max    0.256786\n",
      "dtype: float64\n",
      "Mean diameter: 0.15044952302882025\n",
      "Median diameter: 0.0523064176\n",
      "Mode diameter: 0.0211132445\n",
      "Standard deviation of diameter: 0.3213975456843922\n"
     ]
    }
   ],
   "source": [
    "import json\n",
    "import pandas as pd\n",
    "import numpy as np\n",
    "from scipy.stats import mode\n",
    "with open('data.json') as file:\n",
    "    json_data = json.load(file)\n",
    "\n",
    "flattened_data = []\n",
    "for entry in json_data:\n",
    "    near_earth_objects = entry[\"near_earth_objects\"]\n",
    "\n",
    "    for date, objects in near_earth_objects.items():\n",
    "        for obj in objects:\n",
    "            obj[\"close_approach_date\"] = date\n",
    "            flattened_data.append(obj)\n",
    "\n",
    "df = pd.json_normalize(flattened_data)\n",
    "\n",
    "# Convert the date column to datetime type\n",
    "df['close_approach_date'] = pd.to_datetime(df['close_approach_date'])\n",
    "\n",
    "# Define the list of keys for diameter columns\n",
    "diameter_keys = ['estimated_diameter.kilometers.estimated_diameter_min', 'estimated_diameter.kilometers.estimated_diameter_max']\n",
    "\n",
    "# Extract the required columns and convert them to numeric type\n",
    "df[diameter_keys] = df[diameter_keys].apply(pd.to_numeric)\n",
    "\n",
    "# Group by date and calculate the average diameter for each day\n",
    "average_diameter = df.groupby('close_approach_date')[diameter_keys].mean()\n",
    "\n",
    "print(average_diameter)\n",
    "\n",
    "\n",
    "# Calculate the proportions of potentially hazardous near_earth_objects\n",
    "proportions = df['is_potentially_hazardous_asteroid'].value_counts(normalize=True)\n",
    "\n",
    "print(proportions)\n",
    "\n",
    "# Calculate the correlation between NEO sizes and their potentially hazardous nature\n",
    "correlation = df[diameter_keys].corrwith(df['is_potentially_hazardous_asteroid'].astype(int))\n",
    "\n",
    "print(correlation)\n",
    "\n",
    "# Calculate the mean, median, mode, and standard deviation of the NEO sizes\n",
    "mean_diameter = np.mean(df[diameter_keys].values)\n",
    "median_diameter = np.median(df[diameter_keys].values)\n",
    "mode_diameter = mode(df[diameter_keys].values, axis=None, keepdims=True)[0][0]\n",
    "std_diameter = np.std(df[diameter_keys].values)\n",
    "\n",
    "print(\"Mean diameter:\", mean_diameter)\n",
    "print(\"Median diameter:\", median_diameter)\n",
    "print(\"Mode diameter:\", mode_diameter)\n",
    "print(\"Standard deviation of diameter:\", std_diameter)\n"
   ]
  },
  {
   "cell_type": "markdown",
   "metadata": {},
   "source": [
    "### Task 3: Data Visualization Part A\n",
    "\n",
    "- Create a line plot of the number of NEOs per week.\n",
    "- Create a histogram of the distribution of NEO sizes.\n",
    "- Create a bar plot of the average NEO size per week.\n",
    "- Use a library like Seaborn to create more complex visualizations, such as a box plot of the NEO sizes or a heat map of the number of NEOs per week. **Be creative**!"
   ]
  },
  {
   "cell_type": "code",
   "execution_count": null,
   "metadata": {},
   "outputs": [],
   "source": [
    "# Write your code"
   ]
  },
  {
   "cell_type": "markdown",
   "metadata": {},
   "source": [
    "### Task 4: Data Visualization Part B\n",
    "\n",
    "- Create a pie chart of the proportion of hazardous vs non-hazardous NEOs.\n",
    "- Create a scatter plot of the correlation between NEO size and close approach distance.\n",
    "- Customize the appearance of your plots (e.g., colors, labels, titles).\n",
    "- Create interactive visualizations using a library like Plotly. For example, create an interactive scatter plot where you can hover over each point to see more information about the NEO. **Be creative!**"
   ]
  },
  {
   "cell_type": "code",
   "execution_count": null,
   "metadata": {},
   "outputs": [],
   "source": [
    "# Write your code"
   ]
  },
  {
   "cell_type": "markdown",
   "metadata": {},
   "source": [
    "### Task 5: Interpretation of Results\n",
    "\n",
    "- Interpret the results of your data visualization in part A and B. \n",
    "- What insights can you gain about NEOs from your results? Summarizing your findings.\n",
    "- Use your findings to make predictions or recommendations. For example, if you found that larger NEOs are more likely to be potentially hazardous, you could recommend that more resources be allocated to tracking large NEOs. **Be creative!**\n",
    "- Identify, understand, and explain one scientific paper, on a clustering or classification method of relevance that could help Task 5. You don't have to implement it, you just need to justify in this notebook why the method in the scientific paper could contribute in analysis or interpretation of the results."
   ]
  },
  {
   "cell_type": "code",
   "execution_count": null,
   "metadata": {},
   "outputs": [],
   "source": [
    "# Write your code"
   ]
  },
  {
   "cell_type": "markdown",
   "metadata": {},
   "source": [
    "### Task 6: Presentation and Documentation\n",
    "\n",
    "- Make this project as part of your presentation, **using beamer in LaTeX**. \n",
    "- This should include an overview of your work, the results of your data analysis, and the insights you gained from your results."
   ]
  },
  {
   "cell_type": "markdown",
   "metadata": {},
   "source": []
  }
 ],
 "metadata": {
  "kernelspec": {
   "display_name": "Python 3 (ipykernel)",
   "language": "python",
   "name": "python3"
  },
  "language_info": {
   "codemirror_mode": {
    "name": "ipython",
    "version": 3
   },
   "file_extension": ".py",
   "mimetype": "text/x-python",
   "name": "python",
   "nbconvert_exporter": "python",
   "pygments_lexer": "ipython3",
   "version": "3.10.9"
  }
 },
 "nbformat": 4,
 "nbformat_minor": 4
}
