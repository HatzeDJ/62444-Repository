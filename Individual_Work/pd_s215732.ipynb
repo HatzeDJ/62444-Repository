{
 "cells": [
  {
   "cell_type": "markdown",
   "metadata": {},
   "source": [
    "# Introduction"
   ]
  },
  {
   "cell_type": "markdown",
   "metadata": {},
   "source": [
    "Hopefully, this short tutorial can show you a lot of different commands that will help you gain the most insights into your dataset. "
   ]
  },
  {
   "cell_type": "code",
   "execution_count": 2,
   "metadata": {},
   "outputs": [],
   "source": [
    "%reload_ext autoreload\n",
    "%autoreload 2\n",
    "%aimport src"
   ]
  },
  {
   "cell_type": "code",
   "execution_count": 1,
   "metadata": {},
   "outputs": [],
   "source": [
    "import pandas as pd\n",
    "import os \n",
    "import sys\n",
    "#Locates the repository root\n",
    "root_path = os.path.abspath(os.path.join(os.getcwd(), \"..\"))\n",
    "#Updates the system path to the root:\n",
    "sys.path.append(root_path)\n",
    "#Imports from src:\n",
    "from src.utils import load_data_from_google_drive"
   ]
  },
  {
   "cell_type": "markdown",
   "metadata": {},
   "source": [
    "# Loading in Data"
   ]
  },
  {
   "cell_type": "markdown",
   "metadata": {},
   "source": [
    "The first step in any ML problem is identifying what format your data is in, and then loading it into whatever framework you're using. For Kaggle compeitions, a lot of data can be found in CSV files, so that's the example we're going to use. "
   ]
  },
  {
   "cell_type": "markdown",
   "metadata": {},
   "source": [
    "We're going to be looking at a sports dataset that shows the results from NCAA basketball games from 1985 to 2016. This dataset is in a CSV file, and the function we're going to use to read in the file is called **pd.read_csv()**. This function returns a **dataframe** variable. The dataframe is the golden jewel data structure for Pandas. It is defined as \"a two-dimensional size-mutable, potentially heterogeneous tabular data structure with labeled axes (rows and columns)\"."
   ]
  },
  {
   "cell_type": "markdown",
   "metadata": {},
   "source": [
    "Just think of it as a table for now. "
   ]
  },
  {
   "cell_type": "code",
   "execution_count": 3,
   "metadata": {},
   "outputs": [],
   "source": [
    "df = load_data_from_google_drive(url='https://drive.google.com/file/d/184JcLbSpArA_uq0DgAv2k892KChJVPHt/view?usp=share_link')"
   ]
  },
  {
   "cell_type": "code",
   "execution_count": null,
   "metadata": {},
   "outputs": [],
   "source": [
    "df"
   ]
  },
  {
   "cell_type": "markdown",
   "metadata": {},
   "source": [
    "# The Basics"
   ]
  },
  {
   "cell_type": "markdown",
   "metadata": {},
   "source": [
    "Now that we have our dataframe in our variable df, let's look at what it contains. We can use the function **head()** to see the first couple rows of the dataframe (or the function **tail()** to see the last few rows)."
   ]
  },
  {
   "cell_type": "code",
   "execution_count": 26,
   "metadata": {},
   "outputs": [
    {
     "data": {
      "text/html": [
       "<div>\n",
       "<style scoped>\n",
       "    .dataframe tbody tr th:only-of-type {\n",
       "        vertical-align: middle;\n",
       "    }\n",
       "\n",
       "    .dataframe tbody tr th {\n",
       "        vertical-align: top;\n",
       "    }\n",
       "\n",
       "    .dataframe thead th {\n",
       "        text-align: right;\n",
       "    }\n",
       "</style>\n",
       "<table border=\"1\" class=\"dataframe\">\n",
       "  <thead>\n",
       "    <tr style=\"text-align: right;\">\n",
       "      <th></th>\n",
       "      <th>Season</th>\n",
       "      <th>Daynum</th>\n",
       "      <th>Wteam</th>\n",
       "      <th>Wscore</th>\n",
       "      <th>Lteam</th>\n",
       "      <th>Lscore</th>\n",
       "      <th>Wloc</th>\n",
       "      <th>Numot</th>\n",
       "      <th>ScoreDifference</th>\n",
       "      <th>HighScoringGame</th>\n",
       "    </tr>\n",
       "  </thead>\n",
       "  <tbody>\n",
       "    <tr>\n",
       "      <th>0</th>\n",
       "      <td>1985</td>\n",
       "      <td>20</td>\n",
       "      <td>1228</td>\n",
       "      <td>81</td>\n",
       "      <td>1328</td>\n",
       "      <td>64</td>\n",
       "      <td>N</td>\n",
       "      <td>0</td>\n",
       "      <td>17</td>\n",
       "      <td>No</td>\n",
       "    </tr>\n",
       "    <tr>\n",
       "      <th>1</th>\n",
       "      <td>1985</td>\n",
       "      <td>25</td>\n",
       "      <td>1106</td>\n",
       "      <td>77</td>\n",
       "      <td>1354</td>\n",
       "      <td>70</td>\n",
       "      <td>H</td>\n",
       "      <td>0</td>\n",
       "      <td>7</td>\n",
       "      <td>No</td>\n",
       "    </tr>\n",
       "    <tr>\n",
       "      <th>2</th>\n",
       "      <td>1985</td>\n",
       "      <td>25</td>\n",
       "      <td>1112</td>\n",
       "      <td>63</td>\n",
       "      <td>1223</td>\n",
       "      <td>56</td>\n",
       "      <td>H</td>\n",
       "      <td>0</td>\n",
       "      <td>7</td>\n",
       "      <td>No</td>\n",
       "    </tr>\n",
       "    <tr>\n",
       "      <th>3</th>\n",
       "      <td>1985</td>\n",
       "      <td>25</td>\n",
       "      <td>1165</td>\n",
       "      <td>70</td>\n",
       "      <td>1432</td>\n",
       "      <td>54</td>\n",
       "      <td>H</td>\n",
       "      <td>0</td>\n",
       "      <td>16</td>\n",
       "      <td>No</td>\n",
       "    </tr>\n",
       "    <tr>\n",
       "      <th>4</th>\n",
       "      <td>1985</td>\n",
       "      <td>25</td>\n",
       "      <td>1192</td>\n",
       "      <td>86</td>\n",
       "      <td>1447</td>\n",
       "      <td>74</td>\n",
       "      <td>H</td>\n",
       "      <td>0</td>\n",
       "      <td>12</td>\n",
       "      <td>No</td>\n",
       "    </tr>\n",
       "  </tbody>\n",
       "</table>\n",
       "</div>"
      ],
      "text/plain": [
       "   Season  Daynum  Wteam  Wscore  Lteam  Lscore Wloc  Numot  ScoreDifference  \\\n",
       "0    1985      20   1228      81   1328      64    N      0               17   \n",
       "1    1985      25   1106      77   1354      70    H      0                7   \n",
       "2    1985      25   1112      63   1223      56    H      0                7   \n",
       "3    1985      25   1165      70   1432      54    H      0               16   \n",
       "4    1985      25   1192      86   1447      74    H      0               12   \n",
       "\n",
       "  HighScoringGame  \n",
       "0              No  \n",
       "1              No  \n",
       "2              No  \n",
       "3              No  \n",
       "4              No  "
      ]
     },
     "execution_count": 26,
     "metadata": {},
     "output_type": "execute_result"
    }
   ],
   "source": [
    "df.head()"
   ]
  },
  {
   "cell_type": "code",
   "execution_count": null,
   "metadata": {},
   "outputs": [],
   "source": [
    "df.tail()"
   ]
  },
  {
   "cell_type": "markdown",
   "metadata": {},
   "source": [
    "We can see the dimensions of the dataframe using the the **shape** attribute"
   ]
  },
  {
   "cell_type": "code",
   "execution_count": null,
   "metadata": {},
   "outputs": [],
   "source": [
    "df.shape"
   ]
  },
  {
   "cell_type": "markdown",
   "metadata": {
    "collapsed": true
   },
   "source": [
    "We can also extract all the column names as a list, by using the **columns** attribute and can extract the rows with the **index** attribute"
   ]
  },
  {
   "cell_type": "code",
   "execution_count": null,
   "metadata": {},
   "outputs": [],
   "source": [
    "df.columns.tolist()"
   ]
  },
  {
   "cell_type": "markdown",
   "metadata": {},
   "source": [
    "In order to get a better idea of the type of data that we are dealing with, we can call the **describe()** function to see statistics like mean, min, etc about each column of the dataset. "
   ]
  },
  {
   "cell_type": "code",
   "execution_count": null,
   "metadata": {},
   "outputs": [],
   "source": [
    "df.describe()"
   ]
  },
  {
   "cell_type": "markdown",
   "metadata": {},
   "source": [
    "Okay, so now let's looking at information that we want to extract from the dataframe. Let's say I wanted to know the max value of a certain column. The function **max()** will show you the maximum values of all columns"
   ]
  },
  {
   "cell_type": "code",
   "execution_count": null,
   "metadata": {},
   "outputs": [],
   "source": [
    "df.max()"
   ]
  },
  {
   "cell_type": "markdown",
   "metadata": {},
   "source": [
    "Then, if you'd like to specifically get the max value for a particular column, you pass in the name of the column using the bracket indexing operator"
   ]
  },
  {
   "cell_type": "code",
   "execution_count": null,
   "metadata": {},
   "outputs": [],
   "source": [
    "df['Wscore'].max()"
   ]
  },
  {
   "cell_type": "markdown",
   "metadata": {},
   "source": [
    "If you'd like to find the mean of the Losing teams' score. "
   ]
  },
  {
   "cell_type": "code",
   "execution_count": null,
   "metadata": {},
   "outputs": [],
   "source": [
    "df['Lscore'].mean()"
   ]
  },
  {
   "cell_type": "markdown",
   "metadata": {},
   "source": [
    "But what if that's not enough? Let's say we want to actually see the game(row) where this max score happened. We can call the **argmax()** function to identify the row index"
   ]
  },
  {
   "cell_type": "code",
   "execution_count": null,
   "metadata": {},
   "outputs": [],
   "source": [
    "df['Wscore'].argmax()"
   ]
  },
  {
   "cell_type": "markdown",
   "metadata": {},
   "source": [
    "One of the most useful functions that you can call on certain columns in a dataframe is the **value_counts()** function. It shows how many times each item appears in the column. This particular command shows the number of games in each season"
   ]
  },
  {
   "cell_type": "code",
   "execution_count": null,
   "metadata": {},
   "outputs": [],
   "source": [
    "df['Season'].value_counts()"
   ]
  },
  {
   "cell_type": "markdown",
   "metadata": {},
   "source": [
    "**Q**: How many unique seasons are there in the dataset? Use the nunique() function."
   ]
  },
  {
   "cell_type": "code",
   "execution_count": null,
   "metadata": {},
   "outputs": [],
   "source": [
    "# Write your code here\n",
    "#By running it, there are 32 unique seasons\n",
    "df['Season'].nunique()"
   ]
  },
  {
   "cell_type": "markdown",
   "metadata": {},
   "source": [
    "**Q**: Find the team with the most wins. Use the value_counts() function on the Wteam column."
   ]
  },
  {
   "cell_type": "code",
   "execution_count": null,
   "metadata": {},
   "outputs": [],
   "source": [
    "# Write your code here\n",
    "#this prints the teams with their scores, and the first one is the team with most wins which is team 1181\n",
    "df['Wteam'].value_counts()"
   ]
  },
  {
   "cell_type": "markdown",
   "metadata": {},
   "source": [
    "# Acessing Values"
   ]
  },
  {
   "cell_type": "markdown",
   "metadata": {},
   "source": [
    "Then, in order to get attributes about the game, we need to use the **iloc[]** function. Iloc is definitely one of the more important functions. The main idea is that you want to use it whenever you have the integer index of a certain row that you want to access. As per Pandas documentation, iloc is an \"integer-location based indexing for selection by position.\""
   ]
  },
  {
   "cell_type": "code",
   "execution_count": null,
   "metadata": {},
   "outputs": [],
   "source": [
    "df.iloc[[df['Wscore'].argmax()]]"
   ]
  },
  {
   "cell_type": "markdown",
   "metadata": {},
   "source": [
    "Let's take this a step further. Let's say you want to know the game with the highest scoring winning team (this is what we just calculated), but you then want to know how many points the losing team scored. "
   ]
  },
  {
   "cell_type": "code",
   "execution_count": null,
   "metadata": {},
   "outputs": [],
   "source": [
    "df.iloc[[df['Wscore'].argmax()]]['Lscore']"
   ]
  },
  {
   "cell_type": "markdown",
   "metadata": {},
   "source": [
    "When you see data displayed in the above format, you're dealing with a Pandas **Series** object, not a dataframe object."
   ]
  },
  {
   "cell_type": "code",
   "execution_count": null,
   "metadata": {},
   "outputs": [],
   "source": [
    "type(df.iloc[[df['Wscore'].argmax()]]['Lscore'])"
   ]
  },
  {
   "cell_type": "code",
   "execution_count": null,
   "metadata": {},
   "outputs": [],
   "source": [
    "type(df.iloc[[df['Wscore'].argmax()]])"
   ]
  },
  {
   "cell_type": "markdown",
   "metadata": {},
   "source": [
    "The following is a summary of the 3 data structures in Pandas (Haven't ever really used Panels yet)\n",
    "\n",
    "![](DataStructures.png)"
   ]
  },
  {
   "cell_type": "markdown",
   "metadata": {},
   "source": [
    "When you want to access values in a Series, you'll want to just treat the Series like a Python dictionary, so you'd access the value according to its key (which is normally an integer index)"
   ]
  },
  {
   "cell_type": "code",
   "execution_count": null,
   "metadata": {},
   "outputs": [],
   "source": [
    "df.iloc[[df['Wscore'].argmax()]]['Lscore'][24970]"
   ]
  },
  {
   "cell_type": "markdown",
   "metadata": {},
   "source": [
    "The other really important function in Pandas is the **loc** function. Contrary to iloc, which is an integer based indexing, loc is a \"Purely label-location based indexer for selection by label\". Since all the games are ordered from 0 to 145288, iloc and loc are going to be pretty interchangable in this type of dataset"
   ]
  },
  {
   "cell_type": "code",
   "execution_count": null,
   "metadata": {},
   "outputs": [],
   "source": [
    "df.iloc[:3]"
   ]
  },
  {
   "cell_type": "code",
   "execution_count": null,
   "metadata": {},
   "outputs": [],
   "source": [
    "df.loc[:3]"
   ]
  },
  {
   "cell_type": "markdown",
   "metadata": {},
   "source": [
    "Notice the slight difference in that iloc is exclusive of the second number, while loc is inclusive. "
   ]
  },
  {
   "cell_type": "markdown",
   "metadata": {},
   "source": [
    "Below is an example of how you can use loc to acheive the same task as we did previously with iloc"
   ]
  },
  {
   "cell_type": "code",
   "execution_count": null,
   "metadata": {},
   "outputs": [],
   "source": [
    "df.loc[df['Wscore'].argmax(), 'Lscore']"
   ]
  },
  {
   "cell_type": "markdown",
   "metadata": {},
   "source": [
    "A faster version uses the **at()** function. At() is really useful wheneever you know the row label and the column label of the particular value that you want to get. "
   ]
  },
  {
   "cell_type": "code",
   "execution_count": null,
   "metadata": {},
   "outputs": [],
   "source": [
    "df.at[df['Wscore'].argmax(), 'Lscore']"
   ]
  },
  {
   "cell_type": "markdown",
   "metadata": {},
   "source": [
    "If you'd like to see more discussion on how loc and iloc are different, check out this great Stack Overflow post: http://stackoverflow.com/questions/31593201/pandas-iloc-vs-ix-vs-loc-explanation. Just remember that **iloc looks at position** and **loc looks at labels**. Loc becomes very important when your row labels aren't integers. "
   ]
  },
  {
   "cell_type": "markdown",
   "metadata": {},
   "source": [
    "# Sorting"
   ]
  },
  {
   "cell_type": "markdown",
   "metadata": {},
   "source": [
    "Let's say that we want to sort the dataframe in increasing order for the scores of the losing team"
   ]
  },
  {
   "cell_type": "code",
   "execution_count": null,
   "metadata": {
    "scrolled": true
   },
   "outputs": [],
   "source": [
    "df.sort_values('Lscore').head()"
   ]
  },
  {
   "cell_type": "markdown",
   "metadata": {},
   "source": [
    "**Q**: Make three dataframes that are sorted by season, winning team, and winning score respectively. Then, Using iloc, select the rows from index 100 to 200 and the columns for season, winning team, and winning score, respectively. "
   ]
  },
  {
   "cell_type": "code",
   "execution_count": 5,
   "metadata": {},
   "outputs": [],
   "source": [
    "# Write your code here\n",
    "# Sort by season\n",
    "df_sorted_by_season = df.sort_values('Season')\n",
    "\n",
    "# Sort by winning team\n",
    "df_sorted_by_winning_team = df.sort_values('Wteam')\n",
    "\n",
    "# Sort by winning score\n",
    "df_sorted_by_winning_score = df.sort_values('Wscore')\n",
    "\n",
    "# Select rows from index 100 to 200 and specific columns using iloc\n",
    "selected_rows = df_sorted_by_season.iloc[100:201, [0, 2, 3]]"
   ]
  },
  {
   "cell_type": "markdown",
   "metadata": {},
   "source": [
    "**Q**: From these three subsets you obtained above, find the season and winning team for the game with the highest winning score."
   ]
  },
  {
   "cell_type": "code",
   "execution_count": 6,
   "metadata": {},
   "outputs": [
    {
     "name": "stdout",
     "output_type": "stream",
     "text": [
      "Season: 1985\n",
      "Winning Team: 1260\n",
      "Score: 2366\n"
     ]
    }
   ],
   "source": [
    "# Write your code here\n",
    "# Find the game with the highest winning score in each subset\n",
    "if not selected_rows.empty:\n",
    "    max_score_index = selected_rows['Wscore'].idxmax()\n",
    "    max_score_season = selected_rows.loc[max_score_index, 'Season']\n",
    "    max_score_winning_team = selected_rows.loc[max_score_index, 'Wteam']\n",
    "\n",
    "    # Print the results\n",
    "    print(\"Season:\", max_score_season)\n",
    "    print(\"Winning Team:\", max_score_winning_team)\n",
    "    print(\"Score:\", max_score_index)\n",
    "else:\n",
    "    print(\"No rows available in the selected subset.\")"
   ]
  },
  {
   "cell_type": "markdown",
   "metadata": {},
   "source": [
    "# Filtering Rows Conditionally"
   ]
  },
  {
   "cell_type": "markdown",
   "metadata": {},
   "source": [
    "Now, let's say we want to find all of the rows that satisy a particular condition. For example, I want to find all of the games where the winning team scored more than 150 points. The idea behind this command is you want to access the column 'Wscore' of the dataframe df (df['Wscore']), find which entries are above 150 (df['Wscore'] > 150), and then returns only those specific rows in a dataframe format (df[df['Wscore'] > 150])."
   ]
  },
  {
   "cell_type": "code",
   "execution_count": null,
   "metadata": {},
   "outputs": [],
   "source": [
    "df[df['Wscore'] > 150]"
   ]
  },
  {
   "cell_type": "markdown",
   "metadata": {},
   "source": [
    "This also works if you have multiple conditions. Let's say we want to find out when the winning team scores more than 150 points and when the losing team scores below 100. "
   ]
  },
  {
   "cell_type": "code",
   "execution_count": null,
   "metadata": {},
   "outputs": [],
   "source": [
    "df[(df['Wscore'] > 150) & (df['Lscore'] < 100)]"
   ]
  },
  {
   "cell_type": "markdown",
   "metadata": {},
   "source": [
    "**Q**: Create a new column in the DataFrame called 'ScoreDifference' which is the absolute difference between the winning score and the losing score. Filter the DataFrame to only include games where the 'ScoreDifference' is greater than the average 'ScoreDifference' for all games."
   ]
  },
  {
   "cell_type": "code",
   "execution_count": 16,
   "metadata": {},
   "outputs": [
    {
     "name": "stdout",
     "output_type": "stream",
     "text": [
      "        Season  Daynum  Wteam  Wscore  Lteam  Lscore Wloc  Numot  \\\n",
      "0         1985      20   1228      81   1328      64    N      0   \n",
      "3         1985      25   1165      70   1432      54    H      0   \n",
      "6         1985      25   1228      64   1226      44    N      0   \n",
      "8         1985      25   1260      98   1133      80    H      0   \n",
      "10        1985      25   1307     103   1288      71    H      0   \n",
      "...        ...     ...    ...     ...    ...     ...  ...    ...   \n",
      "145280    2016     131   1401      71   1261      38    N      0   \n",
      "145282    2016     131   1433      76   1172      54    N      0   \n",
      "145284    2016     132   1114      70   1419      50    N      0   \n",
      "145285    2016     132   1163      72   1272      58    N      0   \n",
      "145288    2016     132   1386      87   1433      74    N      0   \n",
      "\n",
      "        ScoreDifference  \n",
      "0                    17  \n",
      "3                    16  \n",
      "6                    20  \n",
      "8                    18  \n",
      "10                   32  \n",
      "...                 ...  \n",
      "145280               33  \n",
      "145282               22  \n",
      "145284               20  \n",
      "145285               14  \n",
      "145288               13  \n",
      "\n",
      "[57227 rows x 9 columns]\n"
     ]
    }
   ],
   "source": [
    "# Write your code here\n",
    "\n",
    "# Create a new column 'ScoreDifference' with the absolute difference between winning score and losing score\n",
    "df['ScoreDifference'] = abs(df['Wscore'] - df['Lscore'])\n",
    "\n",
    "# Calculate the average ScoreDifference for all games\n",
    "average_score_diff = df['ScoreDifference'].mean()\n",
    "\n",
    "# Filter the DataFrame to include games where ScoreDifference is greater than the average\n",
    "filtered_df = df[df['ScoreDifference'] > average_score_diff]\n",
    "\n",
    "print(filtered_df)"
   ]
  },
  {
   "cell_type": "markdown",
   "metadata": {},
   "source": [
    "**Q**: From this filtered DataFrame, find the season and teams involved in the game with the highest 'ScoreDifference'."
   ]
  },
  {
   "cell_type": "code",
   "execution_count": 8,
   "metadata": {},
   "outputs": [
    {
     "name": "stdout",
     "output_type": "stream",
     "text": [
      "Season: 1996\n",
      "Teams involved: [1409 50]\n",
      "Score Difference: 44653\n"
     ]
    }
   ],
   "source": [
    "# Write your code here\n",
    "# Find the game with the highest 'ScoreDifference' in the filtered DataFrame\n",
    "max_score_diff_index = filtered_df['ScoreDifference'].idxmax()\n",
    "max_score_diff_season = filtered_df.loc[max_score_diff_index, 'Season']\n",
    "max_score_diff_teams = filtered_df.loc[max_score_diff_index, ['Wteam', 'Lscore']]\n",
    "\n",
    "# Print the results\n",
    "print(\"Season:\", max_score_diff_season)\n",
    "print(\"Teams involved:\", max_score_diff_teams.values)\n",
    "print(\"Score Difference:\", max_score_diff_index)"
   ]
  },
  {
   "cell_type": "markdown",
   "metadata": {},
   "source": [
    "# Grouping"
   ]
  },
  {
   "cell_type": "markdown",
   "metadata": {},
   "source": [
    "Another important function in Pandas is **groupby()**. This is a function that allows you to group entries by certain attributes (e.g Grouping entries by Wteam number) and then perform operations on them. The following function groups all the entries (games) with the same Wteam number and finds the mean for each group. "
   ]
  },
  {
   "cell_type": "code",
   "execution_count": null,
   "metadata": {},
   "outputs": [],
   "source": [
    "df.groupby('Wteam')['Wscore'].mean().head()"
   ]
  },
  {
   "cell_type": "markdown",
   "metadata": {},
   "source": [
    "This next command groups all the games with the same Wteam number and finds where how many times that specific team won at home, on the road, or at a neutral site"
   ]
  },
  {
   "cell_type": "code",
   "execution_count": null,
   "metadata": {
    "scrolled": false
   },
   "outputs": [],
   "source": [
    "df.groupby('Wteam')['Wloc'].value_counts().head(9)"
   ]
  },
  {
   "cell_type": "markdown",
   "metadata": {},
   "source": [
    "Each dataframe has a **values** attribute which is useful because it basically displays your dataframe in a numpy array style format"
   ]
  },
  {
   "cell_type": "code",
   "execution_count": null,
   "metadata": {},
   "outputs": [],
   "source": [
    "df.values"
   ]
  },
  {
   "cell_type": "markdown",
   "metadata": {},
   "source": [
    "Now, you can simply just access elements like you would in an array. "
   ]
  },
  {
   "cell_type": "code",
   "execution_count": null,
   "metadata": {},
   "outputs": [],
   "source": [
    "df.values[0][0]"
   ]
  },
  {
   "cell_type": "markdown",
   "metadata": {},
   "source": [
    "**Q**: Group the DataFrame by season and find the average winning score for each season."
   ]
  },
  {
   "cell_type": "code",
   "execution_count": 9,
   "metadata": {},
   "outputs": [
    {
     "name": "stdout",
     "output_type": "stream",
     "text": [
      "Season\n",
      "1985    74.723040\n",
      "1986    74.813640\n",
      "1987    77.993870\n",
      "1988    79.773704\n",
      "1989    81.728511\n",
      "1990    80.846477\n",
      "1991    82.733932\n",
      "1992    79.992004\n",
      "1993    79.508790\n",
      "1994    81.160345\n",
      "1995    80.096149\n",
      "1996    78.205483\n",
      "1997    76.300842\n",
      "1998    77.229902\n",
      "1999    76.043581\n",
      "2000    76.310467\n",
      "2001    77.088650\n",
      "2002    76.963557\n",
      "2003    75.795061\n",
      "2004    74.971122\n",
      "2005    74.693690\n",
      "2006    74.587555\n",
      "2007    74.829467\n",
      "2008    74.962425\n",
      "2009    74.033721\n",
      "2010    74.652480\n",
      "2011    74.374190\n",
      "2012    73.379973\n",
      "2013    72.840789\n",
      "2014    76.101268\n",
      "2015    72.680799\n",
      "2016    78.295958\n",
      "Name: Wscore, dtype: float64\n"
     ]
    }
   ],
   "source": [
    "# Write your code here\n",
    "average_winning_score = df.groupby('Season')['Wscore'].mean()\n",
    "print(average_winning_score)"
   ]
  },
  {
   "cell_type": "markdown",
   "metadata": {},
   "source": [
    "**Q**: Group the DataFrame by winning team and find the maximum winning score for each team across all seasons."
   ]
  },
  {
   "cell_type": "code",
   "execution_count": null,
   "metadata": {},
   "outputs": [],
   "source": [
    "# Write your code here\n",
    "# Group the DataFrame by winning team and calculate the maximum winning score for each team\n",
    "df.groupby('Wteam')['Wscore'].max()"
   ]
  },
  {
   "cell_type": "markdown",
   "metadata": {},
   "source": [
    "**Q**: Group the DataFrame by both season and winning team. Find the team with the highest average winning score for each season."
   ]
  },
  {
   "cell_type": "code",
   "execution_count": 10,
   "metadata": {},
   "outputs": [
    {
     "name": "stdout",
     "output_type": "stream",
     "text": [
      "Season: 1985\n",
      "Team with highest average winning score: 1328\n",
      "\n",
      "Season: 1986\n",
      "Team with highest average winning score: 1109\n",
      "\n",
      "Season: 1987\n",
      "Team with highest average winning score: 1380\n",
      "\n",
      "Season: 1988\n",
      "Team with highest average winning score: 1258\n",
      "\n",
      "Season: 1989\n",
      "Team with highest average winning score: 1258\n",
      "\n",
      "Season: 1990\n",
      "Team with highest average winning score: 1258\n",
      "\n",
      "Season: 1991\n",
      "Team with highest average winning score: 1380\n",
      "\n",
      "Season: 1992\n",
      "Team with highest average winning score: 1380\n",
      "\n",
      "Season: 1993\n",
      "Team with highest average winning score: 1380\n",
      "\n",
      "Season: 1994\n",
      "Team with highest average winning score: 1380\n",
      "\n",
      "Season: 1995\n",
      "Team with highest average winning score: 1206\n",
      "\n",
      "Season: 1996\n",
      "Team with highest average winning score: 1206\n",
      "\n",
      "Season: 1997\n",
      "Team with highest average winning score: 1254\n",
      "\n",
      "Season: 1998\n",
      "Team with highest average winning score: 1395\n",
      "\n",
      "Season: 1999\n",
      "Team with highest average winning score: 1317\n",
      "\n",
      "Season: 2000\n",
      "Team with highest average winning score: 1395\n",
      "\n",
      "Season: 2001\n",
      "Team with highest average winning score: 1395\n",
      "\n",
      "Season: 2002\n",
      "Team with highest average winning score: 1242\n",
      "\n",
      "Season: 2003\n",
      "Team with highest average winning score: 1395\n",
      "\n",
      "Season: 2004\n",
      "Team with highest average winning score: 1194\n",
      "\n",
      "Season: 2005\n",
      "Team with highest average winning score: 1311\n",
      "\n",
      "Season: 2006\n",
      "Team with highest average winning score: 1190\n",
      "\n",
      "Season: 2007\n",
      "Team with highest average winning score: 1440\n",
      "\n",
      "Season: 2008\n",
      "Team with highest average winning score: 1440\n",
      "\n",
      "Season: 2009\n",
      "Team with highest average winning score: 1377\n",
      "\n",
      "Season: 2010\n",
      "Team with highest average winning score: 1440\n",
      "\n",
      "Season: 2011\n",
      "Team with highest average winning score: 1449\n",
      "\n",
      "Season: 2012\n",
      "Team with highest average winning score: 1370\n",
      "\n",
      "Season: 2013\n",
      "Team with highest average winning score: 1377\n",
      "\n",
      "Season: 2014\n",
      "Team with highest average winning score: 1322\n",
      "\n",
      "Season: 2015\n",
      "Team with highest average winning score: 1322\n",
      "\n",
      "Season: 2016\n",
      "Team with highest average winning score: 1146\n",
      "\n"
     ]
    }
   ],
   "source": [
    "# Write your code here\n",
    "# Group the DataFrame by both season and winning team and calculate the highest average winning score for each season\n",
    "highest_avg_score = df.groupby(['Season', 'Wteam'])['Wscore'].agg('mean').groupby('Season').idxmax()\n",
    "\n",
    "# Print the team with the highest average winning score for each season\n",
    "for season, team_index in highest_avg_score.items():\n",
    "    print(\"Season:\", season)\n",
    "    print(\"The team with the highest average winning score:\", team_index[1])\n",
    "    print()"
   ]
  },
  {
   "cell_type": "markdown",
   "metadata": {},
   "source": [
    "**Q**: Create a new DataFrame that counts the number of wins for each team in each season. This will involve grouping by both season and winning team, and then using the count() function."
   ]
  },
  {
   "cell_type": "code",
   "execution_count": 11,
   "metadata": {},
   "outputs": [
    {
     "name": "stdout",
     "output_type": "stream",
     "text": [
      "       Season  Wteam  Daynum  win_count  Lteam  Lscore  Wloc  Numot  \\\n",
      "0        1985   1102       5          5      5       5     5      5   \n",
      "1        1985   1103       9          9      9       9     9      9   \n",
      "2        1985   1104      21         21     21      21    21     21   \n",
      "3        1985   1106      10         10     10      10    10     10   \n",
      "4        1985   1108      19         19     19      19    19     19   \n",
      "...       ...    ...     ...        ...    ...     ...   ...    ...   \n",
      "10167    2016   1460      20         20     20      20    20     20   \n",
      "10168    2016   1461      12         12     12      12    12     12   \n",
      "10169    2016   1462      27         27     27      27    27     27   \n",
      "10170    2016   1463      21         21     21      21    21     21   \n",
      "10171    2016   1464       9          9      9       9     9      9   \n",
      "\n",
      "       ScoreDifference  \n",
      "0                    5  \n",
      "1                    9  \n",
      "2                   21  \n",
      "3                   10  \n",
      "4                   19  \n",
      "...                ...  \n",
      "10167               20  \n",
      "10168               12  \n",
      "10169               27  \n",
      "10170               21  \n",
      "10171                9  \n",
      "\n",
      "[10172 rows x 9 columns]\n"
     ]
    }
   ],
   "source": [
    "# Write your code here\n",
    "# Group the DataFrame by both season and winning team and count the number of wins\n",
    "win_counts = df.groupby(['Season', 'Wteam']).count()\n",
    "\n",
    "# Reset the index to make the season and winning team columns regular columns\n",
    "win_counts.reset_index(inplace=True)\n",
    "\n",
    "# Rename the count column to 'win_count'\n",
    "win_counts.rename(columns={'Wscore': 'win_count'}, inplace=True)\n",
    "\n",
    "# Print the new DataFrame with win counts\n",
    "print(win_counts)"
   ]
  },
  {
   "cell_type": "markdown",
   "metadata": {},
   "source": [
    "**Q**: For each season, find the team with the most wins. This will involve creating a DataFrame similar to the one in task 5, and then using the idxmax() function for each season."
   ]
  },
  {
   "cell_type": "code",
   "execution_count": 12,
   "metadata": {},
   "outputs": [
    {
     "name": "stdout",
     "output_type": "stream",
     "text": [
      "      Season  Wteam  win_count\n",
      "81      1985      1        142\n",
      "164     1986      1        151\n",
      "244     1987      1        133\n",
      "341     1988      1        152\n",
      "435     1989      1        181\n",
      "540     1990      1        173\n",
      "636     1991      1        186\n",
      "725     1992      1        159\n",
      "812     1993      1        155\n",
      "899     1994      1        150\n",
      "985     1995      1        156\n",
      "1073    1996      1        142\n",
      "1155    1997      1        137\n",
      "1241    1998      1        153\n",
      "1321    1999      1        132\n",
      "1403    2000      1        143\n",
      "1486    2001      1        130\n",
      "1566    2002      1        133\n",
      "1641    2003      1        142\n",
      "1721    2004      1        122\n",
      "1799    2005      1        123\n",
      "1877    2006      1        129\n",
      "1956    2007      1        129\n",
      "2033    2008      1        129\n",
      "2113    2009      1        127\n",
      "2191    2010      1        134\n",
      "2269    2011      1        121\n",
      "2344    2012      1        124\n",
      "2420    2013      1        120\n",
      "2499    2014      1        126\n",
      "2572    2015      1        126\n",
      "2649    2016      1        144\n"
     ]
    }
   ],
   "source": [
    "# Write your code here\n",
    "# Group the DataFrame by both season and winning team and count the number of wins\n",
    "win_counts = df.groupby(['Season', 'Wscore']).count()\n",
    "\n",
    "# Reset the index to make the season and winning team columns regular columns\n",
    "win_counts.reset_index(inplace=True)\n",
    "\n",
    "# Rename the count column to 'win_count'\n",
    "win_counts.rename(columns={'Wscore': 'win_count'}, inplace=True)\n",
    "\n",
    "# Find the team with the most wins for each season\n",
    "most_wins_teams = win_counts.groupby('Season')['win_count'].idxmax()\n",
    "most_wins_df = win_counts.loc[most_wins_teams, ['Season', 'Wteam', 'win_count']]\n",
    "\n",
    "# Print the team with the most wins for each season\n",
    "print(most_wins_df)"
   ]
  },
  {
   "cell_type": "markdown",
   "metadata": {},
   "source": [
    "**Q**: Group the DataFrame by losing team and find the average losing score for each team across all seasons. Compare this with the average winning score for each team from task 3. Are there teams that have a higher average losing score than winning score?"
   ]
  },
  {
   "cell_type": "code",
   "execution_count": 19,
   "metadata": {
    "scrolled": true
   },
   "outputs": [
    {
     "name": "stdout",
     "output_type": "stream",
     "text": [
      "Teams with a higher average losing score than winning score:\n",
      "Int64Index([], dtype='int64', name='Season')\n"
     ]
    }
   ],
   "source": [
    "# Write your code here\n",
    "# Calculate the average losing score for each team across all seasons\n",
    "average_losing_score = df.groupby('Lteam')['Lscore'].mean()\n",
    "\n",
    "# Compare average losing scores with average winning scores\n",
    "comparison = average_losing_score.reindex(average_winning_score.index) > average_winning_score\n",
    "\n",
    "# Filter teams with higher average losing score than winning score\n",
    "teams_with_higher_losing_score = comparison[comparison].index\n",
    "\n",
    "# Print the teams with higher average losing score than winning score\n",
    "print(\"Teams with a higher average losing score than winning score:\")\n",
    "print(teams_with_higher_losing_score)\n",
    "\n",
    "#After comparing there are no teams with a higher average losing than winning score"
   ]
  },
  {
   "cell_type": "markdown",
   "metadata": {},
   "source": [
    "# Dataframe Iteration"
   ]
  },
  {
   "cell_type": "markdown",
   "metadata": {},
   "source": [
    "In order to iterate through dataframes, we can use the **iterrows()** function. Below is an example of what the first two rows look like. Each row in iterrows is a Series object"
   ]
  },
  {
   "cell_type": "code",
   "execution_count": null,
   "metadata": {},
   "outputs": [],
   "source": [
    "for index, row in df.iterrows():\n",
    "    print(row)\n",
    "    if index == 1:\n",
    "        break"
   ]
  },
  {
   "cell_type": "markdown",
   "metadata": {},
   "source": [
    "**Q**: Create a new column 'HighScoringGame' that is 'Yes' if the winning score is greater than 100 and 'No' otherwise. This will require iterating over the rows of the DataFrame and checking the value of the winning score for each row."
   ]
  },
  {
   "cell_type": "code",
   "execution_count": 22,
   "metadata": {},
   "outputs": [
    {
     "name": "stdout",
     "output_type": "stream",
     "text": [
      "0         No\n",
      "1         No\n",
      "2         No\n",
      "3         No\n",
      "4         No\n",
      "          ..\n",
      "145284    No\n",
      "145285    No\n",
      "145286    No\n",
      "145287    No\n",
      "145288    No\n",
      "Name: HighScoringGame, Length: 145289, dtype: object\n"
     ]
    }
   ],
   "source": [
    "# Write your code here\n",
    "# Create a new column 'HighScoringGame' based on the winning score\n",
    "df['HighScoringGame'] = ''\n",
    "\n",
    "for index, row in df.iterrows():\n",
    "    if row['Wscore'] > 100:\n",
    "        df.at[index, 'HighScoringGame'] = 'Yes'\n",
    "    else:\n",
    "        df.at[index, 'HighScoringGame'] = 'No'\n",
    "print(df['HighScoringGame'])"
   ]
  },
  {
   "cell_type": "markdown",
   "metadata": {},
   "source": [
    "**Q**: Calculate the total number of games played by each team, whether they won or lost. This will require iterating over the rows of the DataFrame and updating a dictionary that keeps track of the number of games for each team."
   ]
  },
  {
   "cell_type": "code",
   "execution_count": 23,
   "metadata": {},
   "outputs": [
    {
     "name": "stdout",
     "output_type": "stream",
     "text": [
      "Team: 1228, Games Played: 992\n",
      "Team: 1328, Games Played: 968\n",
      "Team: 1106, Games Played: 855\n",
      "Team: 1354, Games Played: 906\n",
      "Team: 1112, Games Played: 981\n",
      "Team: 1223, Games Played: 363\n",
      "Team: 1165, Games Played: 833\n",
      "Team: 1432, Games Played: 69\n",
      "Team: 1192, Games Played: 908\n",
      "Team: 1447, Games Played: 903\n",
      "Team: 1218, Games Played: 931\n",
      "Team: 1337, Games Played: 922\n",
      "Team: 1226, Games Played: 847\n",
      "Team: 1242, Games Played: 993\n",
      "Team: 1268, Games Played: 969\n",
      "Team: 1260, Games Played: 914\n",
      "Team: 1133, Games Played: 949\n",
      "Team: 1305, Games Played: 922\n",
      "Team: 1424, Games Played: 974\n",
      "Team: 1307, Games Played: 969\n",
      "Team: 1288, Games Played: 925\n",
      "Team: 1344, Games Played: 951\n",
      "Team: 1438, Games Played: 952\n",
      "Team: 1374, Games Played: 916\n",
      "Team: 1411, Games Played: 903\n",
      "Team: 1412, Games Played: 962\n",
      "Team: 1397, Games Played: 963\n",
      "Team: 1417, Games Played: 966\n",
      "Team: 1225, Games Played: 880\n",
      "Team: 1116, Games Played: 980\n",
      "Team: 1368, Games Played: 808\n",
      "Team: 1120, Games Played: 936\n",
      "Team: 1391, Games Played: 879\n",
      "Team: 1135, Games Played: 847\n",
      "Team: 1306, Games Played: 898\n",
      "Team: 1143, Games Played: 947\n",
      "Team: 1388, Games Played: 897\n",
      "Team: 1153, Games Played: 970\n",
      "Team: 1184, Games Played: 863\n",
      "Team: 1159, Games Played: 887\n",
      "Team: 1171, Games Played: 829\n",
      "Team: 1216, Games Played: 930\n",
      "Team: 1173, Games Played: 960\n",
      "Team: 1134, Games Played: 200\n",
      "Team: 1177, Games Played: 942\n",
      "Team: 1296, Games Played: 879\n",
      "Team: 1193, Games Played: 942\n",
      "Team: 1265, Games Played: 934\n",
      "Team: 1196, Games Played: 981\n",
      "Team: 1416, Games Played: 881\n",
      "Team: 1206, Games Played: 938\n",
      "Team: 1137, Games Played: 912\n",
      "Team: 1210, Games Played: 972\n",
      "Team: 1149, Games Played: 824\n",
      "Team: 1211, Games Played: 921\n",
      "Team: 1102, Games Played: 840\n",
      "Team: 1234, Games Played: 968\n",
      "Team: 1114, Games Played: 910\n",
      "Team: 1332, Games Played: 927\n",
      "Team: 1243, Games Played: 927\n",
      "Team: 1317, Games Played: 883\n",
      "Team: 1257, Games Played: 994\n",
      "Team: 1231, Games Played: 969\n",
      "Team: 1277, Games Played: 966\n",
      "Team: 1145, Games Played: 934\n",
      "Team: 1278, Games Played: 948\n",
      "Team: 1453, Games Played: 912\n",
      "Team: 1286, Games Played: 851\n",
      "Team: 1186, Games Played: 849\n",
      "Team: 1301, Games Played: 979\n",
      "Team: 1144, Games Played: 850\n",
      "Team: 1325, Games Played: 942\n",
      "Team: 1384, Games Played: 887\n",
      "Team: 1326, Games Played: 968\n",
      "Team: 1248, Games Played: 896\n",
      "Team: 1287, Games Played: 857\n",
      "Team: 1339, Games Played: 879\n",
      "Team: 1334, Games Played: 899\n",
      "Team: 1365, Games Played: 907\n",
      "Team: 1375, Games Played: 896\n",
      "Team: 1126, Games Played: 906\n",
      "Team: 1403, Games Played: 939\n",
      "Team: 1152, Games Played: 865\n",
      "Team: 1423, Games Played: 931\n",
      "Team: 1347, Games Played: 858\n",
      "Team: 1429, Games Played: 930\n",
      "Team: 1428, Games Played: 931\n",
      "Team: 1437, Games Played: 983\n",
      "Team: 1436, Games Played: 911\n",
      "Team: 1172, Games Played: 879\n",
      "Team: 1439, Games Played: 946\n",
      "Team: 1330, Games Played: 963\n",
      "Team: 1443, Games Played: 942\n",
      "Team: 1121, Games Played: 175\n",
      "Team: 1455, Games Played: 947\n",
      "Team: 1249, Games Played: 873\n",
      "Team: 1241, Games Played: 942\n",
      "Team: 1440, Games Played: 825\n",
      "Team: 1314, Games Played: 1010\n",
      "Team: 1200, Games Played: 922\n",
      "Team: 1323, Games Played: 950\n",
      "Team: 1264, Games Played: 928\n",
      "Team: 1458, Games Played: 951\n",
      "Team: 1104, Games Played: 975\n",
      "Team: 1160, Games Played: 928\n",
      "Team: 1414, Games Played: 922\n",
      "Team: 1181, Games Played: 1013\n",
      "Team: 1387, Games Played: 956\n",
      "Team: 1183, Games Played: 871\n",
      "Team: 1247, Games Played: 943\n",
      "Team: 1284, Games Played: 932\n",
      "Team: 1402, Games Played: 847\n",
      "Team: 1276, Games Played: 959\n",
      "Team: 1178, Games Played: 920\n",
      "Team: 1364, Games Played: 890\n",
      "Team: 1338, Games Played: 962\n",
      "Team: 1290, Games Played: 875\n",
      "Team: 1376, Games Played: 945\n",
      "Team: 1378, Games Played: 936\n",
      "Team: 1202, Games Played: 856\n",
      "Team: 1396, Games Played: 979\n",
      "Team: 1180, Games Played: 930\n",
      "Team: 1398, Games Played: 870\n",
      "Team: 1399, Games Played: 860\n",
      "Team: 1155, Games Played: 950\n",
      "Team: 1258, Games Played: 898\n",
      "Team: 1448, Games Played: 947\n",
      "Team: 1464, Games Played: 856\n",
      "Team: 1124, Games Played: 906\n",
      "Team: 1341, Games Played: 857\n",
      "Team: 1130, Games Played: 951\n",
      "Team: 1254, Games Played: 898\n",
      "Team: 1204, Games Played: 862\n",
      "Team: 1151, Games Played: 899\n",
      "Team: 1233, Games Played: 957\n",
      "Team: 1220, Games Played: 933\n",
      "Team: 1246, Games Played: 999\n",
      "Team: 1405, Games Played: 921\n",
      "Team: 1280, Games Played: 946\n",
      "Team: 1238, Games Played: 920\n",
      "Team: 1308, Games Played: 935\n",
      "Team: 1431, Games Played: 937\n",
      "Team: 1253, Games Played: 915\n",
      "Team: 1363, Games Played: 889\n",
      "Team: 1348, Games Played: 938\n",
      "Team: 1373, Games Played: 950\n",
      "Team: 1379, Games Played: 896\n",
      "Team: 1270, Games Played: 861\n",
      "Team: 1409, Games Played: 966\n",
      "Team: 1331, Games Played: 809\n",
      "Team: 1444, Games Played: 916\n",
      "Team: 1434, Games Played: 902\n",
      "Team: 1451, Games Played: 866\n",
      "Team: 1139, Games Played: 923\n",
      "Team: 1442, Games Played: 840\n",
      "Team: 1154, Games Played: 820\n",
      "Team: 1456, Games Played: 891\n",
      "Team: 1229, Games Played: 951\n",
      "Team: 1227, Games Played: 917\n",
      "Team: 1259, Games Played: 913\n",
      "Team: 1406, Games Played: 926\n",
      "Team: 1261, Games Played: 956\n",
      "Team: 1272, Games Played: 992\n",
      "Team: 1117, Games Played: 891\n",
      "Team: 1273, Games Played: 896\n",
      "Team: 1163, Games Played: 977\n",
      "Team: 1318, Games Played: 942\n",
      "Team: 1360, Games Played: 889\n",
      "Team: 1393, Games Played: 993\n",
      "Team: 1419, Games Played: 894\n",
      "Team: 1418, Games Played: 912\n",
      "Team: 1281, Games Played: 977\n",
      "Team: 1161, Games Played: 905\n",
      "Team: 1109, Games Played: 169\n",
      "Team: 1309, Games Played: 840\n",
      "Team: 1298, Games Played: 894\n",
      "Team: 1321, Games Played: 912\n",
      "Team: 1285, Games Played: 865\n",
      "Team: 1271, Games Played: 887\n",
      "Team: 1353, Games Played: 939\n",
      "Team: 1351, Games Played: 929\n",
      "Team: 1359, Games Played: 874\n",
      "Team: 1267, Games Played: 909\n",
      "Team: 1361, Games Played: 915\n",
      "Team: 1386, Games Played: 958\n",
      "Team: 1400, Games Played: 982\n",
      "Team: 1322, Games Played: 854\n",
      "Team: 1433, Games Played: 975\n",
      "Team: 1187, Games Played: 861\n",
      "Team: 1245, Games Played: 927\n",
      "Team: 1111, Games Played: 876\n",
      "Team: 1150, Games Played: 942\n",
      "Team: 1119, Games Played: 868\n",
      "Team: 1141, Games Played: 872\n",
      "Team: 1221, Games Played: 929\n",
      "Team: 1122, Games Played: 903\n",
      "Team: 1185, Games Played: 900\n",
      "Team: 1199, Games Played: 949\n",
      "Team: 1201, Games Played: 947\n",
      "Team: 1212, Games Played: 837\n",
      "Team: 1197, Games Played: 896\n",
      "Team: 1140, Games Played: 965\n",
      "Team: 1292, Games Played: 888\n",
      "Team: 1162, Games Played: 831\n",
      "Team: 1319, Games Played: 843\n",
      "Team: 1239, Games Played: 891\n",
      "Team: 1320, Games Played: 913\n",
      "Team: 1371, Games Played: 946\n",
      "Team: 1349, Games Played: 888\n",
      "Team: 1222, Games Played: 930\n",
      "Team: 1382, Games Played: 914\n",
      "Team: 1383, Games Played: 898\n",
      "Team: 1385, Games Played: 954\n",
      "Team: 1390, Games Played: 932\n",
      "Team: 1425, Games Played: 944\n",
      "Team: 1435, Games Played: 961\n",
      "Team: 1463, Games Played: 838\n",
      "Team: 1441, Games Played: 854\n",
      "Team: 1449, Games Played: 938\n",
      "Team: 1123, Games Played: 906\n",
      "Team: 1103, Games Played: 910\n",
      "Team: 1129, Games Played: 907\n",
      "Team: 1209, Games Played: 891\n",
      "Team: 1156, Games Played: 900\n",
      "Team: 1336, Games Played: 926\n",
      "Team: 1174, Games Played: 913\n",
      "Team: 1343, Games Played: 832\n",
      "Team: 1232, Games Played: 913\n",
      "Team: 1203, Games Played: 933\n",
      "Team: 1110, Games Played: 910\n",
      "Team: 1335, Games Played: 880\n",
      "Team: 1283, Games Played: 952\n",
      "Team: 1235, Games Played: 950\n",
      "Team: 1166, Games Played: 957\n",
      "Team: 1311, Games Played: 839\n",
      "Team: 1256, Games Played: 925\n",
      "Team: 1147, Games Played: 698\n",
      "Team: 1250, Games Played: 898\n",
      "Team: 1266, Games Played: 951\n",
      "Team: 1452, Games Played: 945\n",
      "Team: 1269, Games Played: 946\n",
      "Team: 1208, Games Played: 954\n",
      "Team: 1310, Games Played: 949\n",
      "Team: 1329, Games Played: 941\n",
      "Team: 1333, Games Played: 911\n",
      "Team: 1345, Games Played: 966\n",
      "Team: 1263, Games Played: 898\n",
      "Team: 1352, Games Played: 925\n",
      "Team: 1380, Games Played: 862\n",
      "Team: 1446, Games Played: 48\n",
      "Team: 1427, Games Played: 858\n",
      "Team: 1113, Games Played: 937\n",
      "Team: 1408, Games Played: 808\n",
      "Team: 1410, Games Played: 831\n",
      "Team: 1350, Games Played: 959\n",
      "Team: 1450, Games Played: 913\n",
      "Team: 1462, Games Played: 954\n",
      "Team: 1131, Games Played: 945\n",
      "Team: 1190, Games Played: 891\n",
      "Team: 1168, Games Played: 891\n",
      "Team: 1179, Games Played: 914\n",
      "Team: 1304, Games Played: 953\n",
      "Team: 1224, Games Played: 907\n",
      "Team: 1356, Games Played: 953\n",
      "Team: 1426, Games Played: 859\n",
      "Team: 1215, Games Played: 147\n",
      "Team: 1132, Games Played: 895\n",
      "Team: 1217, Games Played: 828\n",
      "Team: 1389, Games Played: 928\n",
      "Team: 1395, Games Played: 943\n",
      "Team: 1461, Games Played: 914\n",
      "Team: 1279, Games Played: 927\n",
      "Team: 1275, Games Played: 932\n",
      "Team: 1293, Games Played: 886\n",
      "Team: 1191, Games Played: 928\n",
      "Team: 1299, Games Played: 870\n",
      "Team: 1401, Games Played: 940\n",
      "Team: 1175, Games Played: 890\n",
      "Team: 1327, Games Played: 22\n",
      "Team: 1207, Games Played: 923\n",
      "Team: 1108, Games Played: 866\n",
      "Team: 1182, Games Played: 924\n",
      "Team: 1274, Games Played: 915\n",
      "Team: 1362, Games Played: 867\n",
      "Team: 1164, Games Played: 893\n",
      "Team: 1118, Games Played: 27\n",
      "Team: 1420, Games Played: 845\n",
      "Team: 1457, Games Played: 801\n",
      "Team: 1148, Games Played: 844\n",
      "Team: 1372, Games Played: 795\n",
      "Team: 1157, Games Played: 784\n",
      "Team: 1421, Games Played: 799\n",
      "Team: 1358, Games Played: 806\n",
      "Team: 1460, Games Played: 827\n",
      "Team: 1198, Games Played: 812\n",
      "Team: 1291, Games Played: 815\n",
      "Team: 1381, Games Played: 735\n",
      "Team: 1251, Games Played: 755\n",
      "Team: 1282, Games Played: 745\n",
      "Team: 1169, Games Played: 724\n",
      "Team: 1302, Games Played: 200\n",
      "Team: 1454, Games Played: 737\n",
      "Team: 1170, Games Played: 660\n",
      "Team: 1138, Games Played: 728\n",
      "Team: 1158, Games Played: 720\n",
      "Team: 1422, Games Played: 719\n",
      "Team: 1369, Games Played: 682\n",
      "Team: 1404, Games Played: 643\n",
      "Team: 1194, Games Played: 647\n",
      "Team: 1407, Games Played: 639\n",
      "Team: 1142, Games Played: 597\n",
      "Team: 1214, Games Played: 627\n",
      "Team: 1459, Games Played: 575\n",
      "Team: 1240, Games Played: 568\n",
      "Team: 1313, Games Played: 563\n",
      "Team: 1115, Games Played: 520\n",
      "Team: 1176, Games Played: 526\n",
      "Team: 1346, Games Played: 522\n",
      "Team: 1237, Games Played: 519\n",
      "Team: 1340, Games Played: 497\n",
      "Team: 1107, Games Played: 512\n",
      "Team: 1357, Games Played: 500\n",
      "Team: 1324, Games Played: 506\n",
      "Team: 1189, Games Played: 481\n",
      "Team: 1125, Games Played: 506\n",
      "Team: 1105, Games Played: 447\n",
      "Team: 1392, Games Played: 493\n",
      "Team: 1219, Games Played: 466\n",
      "Team: 1127, Games Played: 442\n",
      "Team: 1289, Games Played: 48\n",
      "Team: 1415, Games Played: 418\n",
      "Team: 1236, Games Played: 400\n",
      "Team: 1394, Games Played: 390\n",
      "Team: 1205, Games Played: 405\n",
      "Team: 1128, Games Played: 106\n",
      "Team: 1252, Games Played: 401\n",
      "Team: 1366, Games Played: 384\n",
      "Team: 1294, Games Played: 336\n",
      "Team: 1255, Games Played: 344\n",
      "Team: 1430, Games Played: 325\n",
      "Team: 1413, Games Played: 348\n",
      "Team: 1355, Games Played: 327\n",
      "Team: 1244, Games Played: 322\n",
      "Team: 1295, Games Played: 308\n",
      "Team: 1316, Games Played: 327\n",
      "Team: 1445, Games Played: 107\n",
      "Team: 1312, Games Played: 276\n",
      "Team: 1146, Games Played: 267\n",
      "Team: 1167, Games Played: 260\n",
      "Team: 1300, Games Played: 252\n",
      "Team: 1367, Games Played: 267\n",
      "Team: 1342, Games Played: 260\n",
      "Team: 1195, Games Played: 273\n",
      "Team: 1188, Games Played: 207\n",
      "Team: 1377, Games Played: 210\n",
      "Team: 1315, Games Played: 217\n",
      "Team: 1136, Games Played: 240\n",
      "Team: 1370, Games Played: 222\n",
      "Team: 1303, Games Played: 129\n",
      "Team: 1297, Games Played: 113\n",
      "Team: 1213, Games Played: 84\n",
      "Team: 1262, Games Played: 83\n",
      "Team: 1101, Games Played: 76\n",
      "Team: 1230, Games Played: 64\n"
     ]
    }
   ],
   "source": [
    "# Write your code here\n",
    "# Create an empty dictionary to keep track of the number of games for each team\n",
    "games_played = {}\n",
    "\n",
    "# Iterate over the rows of the DataFrame\n",
    "for _, row in df.iterrows():\n",
    "    # Get the winning team and update the count\n",
    "    winning_team = row['Wteam']\n",
    "    games_played[winning_team] = games_played.get(winning_team, 0) + 1\n",
    "    \n",
    "    # Get the losing team and update the count\n",
    "    losing_team = row['Lteam']\n",
    "    games_played[losing_team] = games_played.get(losing_team, 0) + 1\n",
    "\n",
    "# Print the total number of games played by each team\n",
    "for team, count in games_played.items():\n",
    "    print(f\"Team: {team}, Games Played: {count}\")\n"
   ]
  },
  {
   "cell_type": "markdown",
   "metadata": {},
   "source": [
    "**Q**: For each season, find the game with the highest score difference (winning score - losing score). This will require iterating over the rows of the DataFrame, keeping track of the highest score difference for each season, and updating it if a game with a higher score difference is found."
   ]
  },
  {
   "cell_type": "code",
   "execution_count": 27,
   "metadata": {},
   "outputs": [
    {
     "name": "stdout",
     "output_type": "stream",
     "text": [
      "Season: 1985, Game with Highest Score Difference: 33, Score Difference: 60\n",
      "Season: 1986, Game with Highest Score Difference: 60, Score Difference: 84\n",
      "Season: 1987, Game with Highest Score Difference: 51, Score Difference: 73\n",
      "Season: 1988, Game with Highest Score Difference: 40, Score Difference: 68\n",
      "Season: 1989, Game with Highest Score Difference: 64, Score Difference: 70\n",
      "Season: 1990, Game with Highest Score Difference: 26, Score Difference: 76\n",
      "Season: 1991, Game with Highest Score Difference: 73, Score Difference: 68\n",
      "Season: 1992, Game with Highest Score Difference: 30, Score Difference: 82\n",
      "Season: 1993, Game with Highest Score Difference: 86, Score Difference: 81\n",
      "Season: 1994, Game with Highest Score Difference: 47, Score Difference: 69\n",
      "Season: 1995, Game with Highest Score Difference: 26, Score Difference: 74\n",
      "Season: 1996, Game with Highest Score Difference: 48, Score Difference: 91\n",
      "Season: 1997, Game with Highest Score Difference: 56, Score Difference: 80\n",
      "Season: 1998, Game with Highest Score Difference: 33, Score Difference: 66\n",
      "Season: 1999, Game with Highest Score Difference: 58, Score Difference: 75\n",
      "Season: 2000, Game with Highest Score Difference: 19, Score Difference: 75\n",
      "Season: 2001, Game with Highest Score Difference: 41, Score Difference: 75\n",
      "Season: 2002, Game with Highest Score Difference: 50, Score Difference: 59\n",
      "Season: 2003, Game with Highest Score Difference: 33, Score Difference: 72\n",
      "Season: 2004, Game with Highest Score Difference: 29, Score Difference: 70\n",
      "Season: 2005, Game with Highest Score Difference: 18, Score Difference: 64\n",
      "Season: 2006, Game with Highest Score Difference: 60, Score Difference: 72\n",
      "Season: 2007, Game with Highest Score Difference: 59, Score Difference: 74\n",
      "Season: 2008, Game with Highest Score Difference: 4, Score Difference: 70\n",
      "Season: 2009, Game with Highest Score Difference: 27, Score Difference: 68\n",
      "Season: 2010, Game with Highest Score Difference: 15, Score Difference: 75\n",
      "Season: 2011, Game with Highest Score Difference: 22, Score Difference: 69\n",
      "Season: 2012, Game with Highest Score Difference: 11, Score Difference: 62\n",
      "Season: 2013, Game with Highest Score Difference: 7, Score Difference: 58\n",
      "Season: 2014, Game with Highest Score Difference: 61, Score Difference: 74\n",
      "Season: 2015, Game with Highest Score Difference: 11, Score Difference: 69\n",
      "Season: 2016, Game with Highest Score Difference: 12, Score Difference: 73\n"
     ]
    }
   ],
   "source": [
    "# Write your code here\n",
    "# Create an empty dictionary to store the highest score difference for each season\n",
    "highest_score_diff = {}\n",
    "\n",
    "# Iterate over the rows of the DataFrame\n",
    "for _, row in df.iterrows():\n",
    "    season = row['Season']\n",
    "    score_diff = row['Wscore'] - row['Lscore']\n",
    "    \n",
    "    if season in highest_score_diff:\n",
    "        if score_diff > highest_score_diff[season]['score_diff']:\n",
    "            highest_score_diff[season]['Daynum'] = row['Daynum']\n",
    "            highest_score_diff[season]['score_diff'] = score_diff\n",
    "    else:\n",
    "        highest_score_diff[season] = {'Daynum': row['Daynum'], 'score_diff': score_diff}\n",
    "\n",
    "# Print the game with the highest score difference for each season\n",
    "for season, game_info in highest_score_diff.items():\n",
    "    game_id = game_info['Daynum']\n",
    "    score_diff = game_info['score_diff']\n",
    "    print(f\"Season: {season}, Game with Highest Score Difference: {game_id}, Score Difference: {score_diff}\")\n"
   ]
  },
  {
   "cell_type": "markdown",
   "metadata": {},
   "source": [
    "Remember, iterating over a DataFrame should generally be avoided if a vectorized operation can be used instead, as vectorized operations are usually much faster. However, these tasks are designed to give practice with DataFrame iteration for cases where it might be necessary."
   ]
  },
  {
   "cell_type": "markdown",
   "metadata": {},
   "source": [
    "Vectorized Operation Example: Create a new column 'HighScoringGame' in the DataFrame using a vectorized operation. This column should contain 'Yes' if the winning score is greater than 100 and 'No' otherwise. Use the np.where function from the numpy library for this task."
   ]
  },
  {
   "cell_type": "code",
   "execution_count": null,
   "metadata": {},
   "outputs": [],
   "source": [
    "import numpy as np\n",
    "df['HighScoringGame'] = np.where(df['Wscore'] > 100, 'Yes', 'No')"
   ]
  },
  {
   "cell_type": "markdown",
   "metadata": {},
   "source": [
    "**Q**: Vectorized Operation: Calculate the total number of games played by each team, whether they won or lost. Instead of iterating over the DataFrame, use the value_counts() function on the winning team and losing team columns separately, and then add the two Series together."
   ]
  },
  {
   "cell_type": "code",
   "execution_count": 29,
   "metadata": {},
   "outputs": [
    {
     "name": "stdout",
     "output_type": "stream",
     "text": [
      "1101     76\n",
      "1102    840\n",
      "1103    910\n",
      "1104    975\n",
      "1105    447\n",
      "       ... \n",
      "1460    827\n",
      "1461    914\n",
      "1462    954\n",
      "1463    838\n",
      "1464    856\n",
      "Length: 364, dtype: int64\n"
     ]
    }
   ],
   "source": [
    "# Write your code here\n",
    "# Calculate the total number of games played by each team\n",
    "wins = df['Wteam'].value_counts()\n",
    "losses = df['Lteam'].value_counts()\n",
    "total_games_played = wins.add(losses, fill_value=0)\n",
    "\n",
    "# Print the total number of games played by each team\n",
    "print(total_games_played)\n"
   ]
  },
  {
   "cell_type": "markdown",
   "metadata": {},
   "source": [
    "**Q**: For each season, find the game with the highest score difference (winning score - losing score). Instead of iterating over the DataFrame, create a new column 'ScoreDifference' using vectorized subtraction, then use the groupby() function and idxmax() function to find the game with the highest score difference for each season."
   ]
  },
  {
   "cell_type": "code",
   "execution_count": 30,
   "metadata": {},
   "outputs": [
    {
     "name": "stdout",
     "output_type": "stream",
     "text": [
      "Season: 1985, Game with Highest Score Difference: 33, Score Difference: 60\n",
      "Season: 1986, Game with Highest Score Difference: 60, Score Difference: 84\n",
      "Season: 1987, Game with Highest Score Difference: 51, Score Difference: 73\n",
      "Season: 1988, Game with Highest Score Difference: 40, Score Difference: 68\n",
      "Season: 1989, Game with Highest Score Difference: 64, Score Difference: 70\n",
      "Season: 1990, Game with Highest Score Difference: 26, Score Difference: 76\n",
      "Season: 1991, Game with Highest Score Difference: 73, Score Difference: 68\n",
      "Season: 1992, Game with Highest Score Difference: 30, Score Difference: 82\n",
      "Season: 1993, Game with Highest Score Difference: 86, Score Difference: 81\n",
      "Season: 1994, Game with Highest Score Difference: 47, Score Difference: 69\n",
      "Season: 1995, Game with Highest Score Difference: 26, Score Difference: 74\n",
      "Season: 1996, Game with Highest Score Difference: 48, Score Difference: 91\n",
      "Season: 1997, Game with Highest Score Difference: 56, Score Difference: 80\n",
      "Season: 1998, Game with Highest Score Difference: 33, Score Difference: 66\n",
      "Season: 1999, Game with Highest Score Difference: 58, Score Difference: 75\n",
      "Season: 2000, Game with Highest Score Difference: 19, Score Difference: 75\n",
      "Season: 2001, Game with Highest Score Difference: 41, Score Difference: 75\n",
      "Season: 2002, Game with Highest Score Difference: 50, Score Difference: 59\n",
      "Season: 2003, Game with Highest Score Difference: 33, Score Difference: 72\n",
      "Season: 2004, Game with Highest Score Difference: 29, Score Difference: 70\n",
      "Season: 2005, Game with Highest Score Difference: 18, Score Difference: 64\n",
      "Season: 2006, Game with Highest Score Difference: 60, Score Difference: 72\n",
      "Season: 2007, Game with Highest Score Difference: 59, Score Difference: 74\n",
      "Season: 2008, Game with Highest Score Difference: 4, Score Difference: 70\n",
      "Season: 2009, Game with Highest Score Difference: 27, Score Difference: 68\n",
      "Season: 2010, Game with Highest Score Difference: 15, Score Difference: 75\n",
      "Season: 2011, Game with Highest Score Difference: 22, Score Difference: 69\n",
      "Season: 2012, Game with Highest Score Difference: 11, Score Difference: 62\n",
      "Season: 2013, Game with Highest Score Difference: 7, Score Difference: 58\n",
      "Season: 2014, Game with Highest Score Difference: 61, Score Difference: 74\n",
      "Season: 2015, Game with Highest Score Difference: 11, Score Difference: 69\n",
      "Season: 2016, Game with Highest Score Difference: 12, Score Difference: 73\n"
     ]
    }
   ],
   "source": [
    "# Write your code here\n",
    "# Create a new column 'ScoreDifference' using vectorized subtraction\n",
    "df['ScoreDifference'] = df['Wscore'] - df['Lscore']\n",
    "\n",
    "# Group the DataFrame by season and find the index of the game with the highest score difference\n",
    "idx = df.groupby('Season')['ScoreDifference'].idxmax()\n",
    "\n",
    "# Get the corresponding game information using the index\n",
    "highest_score_diff_games = df.loc[idx]\n",
    "\n",
    "# Print the game with the highest score difference for each season\n",
    "for _, row in highest_score_diff_games.iterrows():\n",
    "    season = row['Season']\n",
    "    game_id = row['Daynum']\n",
    "    score_diff = row['ScoreDifference']\n",
    "    print(f\"Season: {season}, Game with Highest Score Difference: {game_id}, Score Difference: {score_diff}\")\n"
   ]
  },
  {
   "cell_type": "markdown",
   "metadata": {},
   "source": [
    "# Extracting Rows and Columns"
   ]
  },
  {
   "cell_type": "markdown",
   "metadata": {},
   "source": [
    "The bracket indexing operator is one way to extract certain columns from a dataframe."
   ]
  },
  {
   "cell_type": "code",
   "execution_count": null,
   "metadata": {
    "scrolled": true
   },
   "outputs": [],
   "source": [
    "df[['Wscore', 'Lscore']].head()"
   ]
  },
  {
   "cell_type": "markdown",
   "metadata": {},
   "source": [
    "Notice that you can acheive the same result by using the loc function. Loc is a veryyyy versatile function that can help you in a lot of accessing and extracting tasks. "
   ]
  },
  {
   "cell_type": "code",
   "execution_count": null,
   "metadata": {},
   "outputs": [],
   "source": [
    "df.loc[:, ['Wscore', 'Lscore']].head()"
   ]
  },
  {
   "cell_type": "markdown",
   "metadata": {},
   "source": [
    "Note the difference is the return types when you use brackets and when you use double brackets. "
   ]
  },
  {
   "cell_type": "code",
   "execution_count": null,
   "metadata": {},
   "outputs": [],
   "source": [
    "type(df['Wscore'])"
   ]
  },
  {
   "cell_type": "code",
   "execution_count": null,
   "metadata": {},
   "outputs": [],
   "source": [
    "type(df[['Wscore']])"
   ]
  },
  {
   "cell_type": "markdown",
   "metadata": {},
   "source": [
    "You've seen before that you can access columns through df['col name']. You can access rows by using slicing operations. "
   ]
  },
  {
   "cell_type": "code",
   "execution_count": null,
   "metadata": {},
   "outputs": [],
   "source": [
    "df[0:3]"
   ]
  },
  {
   "cell_type": "markdown",
   "metadata": {},
   "source": [
    "Here's an equivalent using iloc"
   ]
  },
  {
   "cell_type": "code",
   "execution_count": null,
   "metadata": {},
   "outputs": [],
   "source": [
    "df.iloc[0:3,:]"
   ]
  },
  {
   "cell_type": "markdown",
   "metadata": {},
   "source": [
    "# Data Cleaning"
   ]
  },
  {
   "cell_type": "markdown",
   "metadata": {},
   "source": [
    "One of the big jobs of doing well in Kaggle competitions is that of data cleaning. A lot of times, the CSV file you're given (especially like in the Titanic dataset), you'll have a lot of missing values in the dataset, which you have to identify. The following **isnull** function will figure out if there are any missing values in the dataframe, and will then sum up the total for each column. In this case, we have a pretty clean dataset."
   ]
  },
  {
   "cell_type": "code",
   "execution_count": null,
   "metadata": {},
   "outputs": [],
   "source": [
    "df.isnull().sum()"
   ]
  },
  {
   "cell_type": "markdown",
   "metadata": {},
   "source": [
    "If you do end up having missing values in your datasets, be sure to get familiar with these two functions. \n",
    "* **dropna()** - This function allows you to drop all(or some) of the rows that have missing values. \n",
    "* **fillna()** - This function allows you replace the rows that have missing values with the value that you pass in."
   ]
  },
  {
   "cell_type": "markdown",
   "metadata": {},
   "source": [
    "# Other Useful Functions"
   ]
  },
  {
   "cell_type": "markdown",
   "metadata": {},
   "source": [
    "* **drop()** - This function removes the column or row that you pass in (You also have the specify the axis). \n",
    "* **agg()** - The aggregate function lets you compute summary statistics about each group\n",
    "* **apply()** - Lets you apply a specific function to any/all elements in a Dataframe or Series\n",
    "* **get_dummies()** - Helpful for turning categorical data into one hot vectors.\n",
    "* **drop_duplicates()** - Lets you remove identical rows"
   ]
  },
  {
   "cell_type": "markdown",
   "metadata": {
    "collapsed": true
   },
   "source": [
    "# Lots of Other Great Resources"
   ]
  },
  {
   "cell_type": "markdown",
   "metadata": {},
   "source": [
    "Pandas has been around for a while and there are a lot of other good resources if you're still interested on getting the most out of this library. \n",
    "* http://pandas.pydata.org/pandas-docs/stable/10min.html\n",
    "* https://www.datacamp.com/community/tutorials/pandas-tutorial-dataframe-python\n",
    "* http://www.gregreda.com/2013/10/26/intro-to-pandas-data-structures/\n",
    "* https://www.dataquest.io/blog/pandas-python-tutorial/\n",
    "* https://drive.google.com/file/d/0ByIrJAE4KMTtTUtiVExiUGVkRkE/view\n",
    "* https://www.youtube.com/playlist?list=PL5-da3qGB5ICCsgW1MxlZ0Hq8LL5U3u9y"
   ]
  }
 ],
 "metadata": {
  "anaconda-cloud": {},
  "kernelspec": {
   "display_name": "Python 3 (ipykernel)",
   "language": "python",
   "name": "python3"
  },
  "language_info": {
   "codemirror_mode": {
    "name": "ipython",
    "version": 3
   },
   "file_extension": ".py",
   "mimetype": "text/x-python",
   "name": "python",
   "nbconvert_exporter": "python",
   "pygments_lexer": "ipython3",
   "version": "3.10.11"
  }
 },
 "nbformat": 4,
 "nbformat_minor": 1
}
